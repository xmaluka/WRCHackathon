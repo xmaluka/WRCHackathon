{
 "cells": [
  {
   "cell_type": "markdown",
   "metadata": {
    "colab_type": "text",
    "id": "t6z7ncXirnv7"
   },
   "source": [
    "# Building an ETL Pipeline for WRC Hackathon"
   ]
  },
  {
   "cell_type": "markdown",
   "metadata": {},
   "source": [
    "### Tools"
   ]
  },
  {
   "cell_type": "code",
   "execution_count": 1,
   "metadata": {
    "colab": {},
    "colab_type": "code",
    "id": "jtYowqI_RiBL"
   },
   "outputs": [],
   "source": [
    "# Importing Packages\n",
    "\n",
    "import tweepy as tw         \n",
    "import pandas as pd     \n",
    "import numpy as np\n",
    "from datetime import date, timedelta\n",
    "import json\n",
    "import re\n",
    "from IPython.display import display\n",
    "import pyodbc"
   ]
  },
  {
   "cell_type": "code",
   "execution_count": 2,
   "metadata": {
    "colab": {},
    "colab_type": "code",
    "id": "lquylmvOnFvt"
   },
   "outputs": [],
   "source": [
    "# API Keys\n",
    "\n",
    "CONSUMER_KEY    = 'egoItCf7bZMp4gopTCXC0WH2O'\n",
    "CONSUMER_SECRET = 'Ph7fyNWzMnLTb0rgx5w0GPb0bzWlfyUtfVhZZGt5jVk4FJeBxK'\n",
    "\n",
    "ACCESS_TOKEN  = '840149748354965504-6fGpkvdj6n53uVG5231Oq6PhyLzHlfO'\n",
    "ACCESS_SECRET = 'f17t2HIfmpsgh1IBxgdugigEH8Xuzhps7gjGT2jfLOgxT'"
   ]
  },
  {
   "cell_type": "code",
   "execution_count": 3,
   "metadata": {},
   "outputs": [],
   "source": [
    "# Create authentication\n",
    "\n",
    "auth = tw.OAuthHandler(CONSUMER_KEY, CONSUMER_SECRET)\n",
    "auth.set_access_token(ACCESS_TOKEN, ACCESS_SECRET)\n",
    "api = tw.API(auth, wait_on_rate_limit=True)"
   ]
  },
  {
   "cell_type": "markdown",
   "metadata": {},
   "source": [
    "### Data"
   ]
  },
  {
   "cell_type": "markdown",
   "metadata": {},
   "source": [
    "Both sets need expansion"
   ]
  },
  {
   "cell_type": "code",
   "execution_count": 134,
   "metadata": {},
   "outputs": [],
   "source": [
    " key_words = [ 'leak' , 'burst' , 'pressure', 'water','cut', 'pipe',\n",
    "              'fault', 'broke', 'damage', 'toilet', 'sanit',\n",
    "              'waste', 'complain', 'supply','service','deliver',\n",
    "              'out', 'no water', 'reference','report' ,'complain',\n",
    "              'install','low','repair']\n",
    "#Words like flow included in 'low','broken' in 'broke' (Pseudo lemmatization)\n",
    "#Includes word like follow..\n",
    "#Still to consider outage vs out --using out for now\n",
    "#sanitation vs sanit (sanitory...)"
   ]
  },
  {
   "cell_type": "code",
   "execution_count": 20,
   "metadata": {},
   "outputs": [],
   "source": [
    "# master_list =[['alfred_enzo' ,'@alfrednzoDM', 'eastern_cape'],\n",
    "#               ['amajuba' ,'@AmajubaDM' , 'kwazulu_natal' ],\n",
    "#               ['cape_wine_lands','@CWDM2','western_cape'],\n",
    "#               ['ehlanzeni' ,'@EhlanzeniM','mpumalanga'],\n",
    "#               ['fezile_dabi', '@FezileDabiDM','free_state' ],\n",
    "#               ['garden_route', '@GardenRoute_DM','western_cape'],\n",
    "#               ['gert_sibande','@GertSibandeDM','mpumalanga' ],\n",
    "#               ['ilembe' ,'@DistrictIlembe','kwazulu_natal'],\n",
    "#               ['king_cetshwayo','@Cetshwayo_dm','kwazulu_natal'],\n",
    "#               ['lejweleputswa', '@LejweleputswaM','free_state' ],\n",
    "#               ['mangaung', '@MangaungCity','free_state' ],\n",
    "#               ['nkangala', '@NkangalaDM','mpumalanga' ],\n",
    "#               ['sedibeng', '@SedibengDM','gauteng' ],\n",
    "#               ['ugu', '@UguDM','kwazulu_natal'],\n",
    "#               ['north_uthungulu','@UmkhanyakudeM','kwazulu_natal'],\n",
    "#               ['uthukela', '@OkhahlambaLM','kwazulu_natal'],\n",
    "#               ['vhembe', '@VhembeDM','limpopo'],\n",
    "#               ['rand_west_city', '@RandLocal','gauteng' ],\n",
    "#               ['sedibeng' ,'@EmfuleniLM','gauteng' ],\n",
    "#               ['amathole','@Amathole_DM', 'eastern_cape'] , \n",
    "#               [ 'bojanala','Bojanala District', 'north_west'], \n",
    "#               [ 'capricon' ,'@CDMunicipality 'limpopo'], \n",
    "#               ['karoo' ,'Central Karoo District', 'western_cape'],\n",
    "#               ['chris_hani' ,'@ChrisHaniDM', 'eastern_cape'], \n",
    "#               ['kenneth_kaunda','Dr Kenneth Kaunda District', 'north_west'], \n",
    "#               ['dr_ruth','Dr Ruth Segomotsi Mompati District', 'north_west'] ,\n",
    "#               ['frances','@FrancesBaardDM', 'northern_cape'],\n",
    "#               ['harry_gwala','Harry Gwala District', 'kwazulu_natal'], \n",
    "#               ['joe_gqabi','Joe Gqabi District', 'eastern_cape' ],\n",
    "#               ['john_taolo','@JTGMunicipal', 'northern_cape'], \n",
    "#               ['mopani','Mopani District', 'limpopo'],\n",
    "#               ['namakwa','Namakwa District', 'northern_Cape'], \n",
    "#               ['ngaka','Ngaka Modiri Molema', 'north_west'], \n",
    "#               ['or_tambo' ,'@ortambodm', 'eastern_cape'], \n",
    "#               ['overberge','Overberg District', 'western_cape'],\n",
    "#               ['pixley_ka_seme','Pixley ka Seme District', 'northern_cape'], \n",
    "#               ['sarah', 'Sarah Baartman District', 'eastern_cape'],\n",
    "#               ['sekhukune','@SEKHUKHUNEMUNI1', 'limpopo'],\n",
    "#               ['thabo','@TeamTMDM', 'free_state'] ,\n",
    "#               ['umgungundlovu' ,'uMgungundlovu District', 'kwazulu_natal'] ,\n",
    "#               ['umzinyathi','@umzinyathi', 'kwazulu_natal'],\n",
    "#               ['waterberg','Waterberg District', 'limpopo' ],\n",
    "#               ['west_cost' ,'@WeskusDM', 'western_cape'], \n",
    "#               ['zf_mchunu' ,'ZF Mgcawu District', 'northern_cape'],\n",
    "#               ['xhariep' ,'Xhariep District', 'free_state'],\n",
    "#               ['zululand' ,'Zululand District', 'kwazulu_natal']]\n",
    "master_list = [['','@thameswater','']]"
   ]
  },
  {
   "cell_type": "markdown",
   "metadata": {},
   "source": [
    "### Functions"
   ]
  },
  {
   "cell_type": "code",
   "execution_count": 78,
   "metadata": {},
   "outputs": [],
   "source": [
    "def extract_tweets(search_word) :\n",
    "\n",
    "    search_words = search_word + \" -filter:retweets\"\n",
    "    today = date.today()                     \n",
    "    tweets = tw.Cursor(api.search,\n",
    "               q=search_words,\n",
    "               lang=\"en\"\n",
    "               ).items(200)                    \n",
    "    tweet_status = [tweet for tweet in tweets]\n",
    "    tweet_list = [tweet.text for tweet in tweet_status]\n",
    "    tweet_date = [tweet.created_at for tweet in tweet_status]\n",
    "    co_od = [tweet.coordinates for tweet in tweet_status]\n",
    "    place_name = [tweet.place.full_name if tweet.place else 'Not available' for tweet in tweet_status]\n",
    "\n",
    "    tweet_df = pd.DataFrame(data=tweet_list, \n",
    "        columns=['tweet'])\n",
    "    tweet_df['timestamp'] = tweet_date\n",
    "    tweet_df['coordinates'] = co_od\n",
    "    tweet_df['Place_name'] = place_name\n",
    "        \n",
    "    return tweet_df"
   ]
  },
  {
   "cell_type": "code",
   "execution_count": 130,
   "metadata": {},
   "outputs": [],
   "source": [
    "def TweetCleaner(tweet):\n",
    "    tweet = str(tweet.lower()) \n",
    "    tweet = re.sub('@[\\w]*','',tweet) \n",
    "    tweet = re.sub(r'https?:\\/\\/.*\\/\\w*', '', tweet)\n",
    "#     tweet = re.sub(r'#\\w*', '', tweet) \n",
    "    tweet = re.sub(r\"[,.;':@#?!\\&/$]+\\ *\", ' ', tweet)\n",
    "    tweet = re.sub(r\"U+FFFD \", ' ', tweet)\n",
    "    tweet = re.sub(r'\\s\\s+', ' ', tweet)\n",
    "    tweet = tweet.lstrip(' ')\n",
    "    tweet = ' '.join([i for i in tweet.split() if any(list_word in i for list_word in key_words)])\n",
    "#     tweet = ' '.join([i for i in tweet if i in key_words])\n",
    "    \n",
    "    return tweet"
   ]
  },
  {
   "cell_type": "code",
   "execution_count": 100,
   "metadata": {},
   "outputs": [],
   "source": [
    "def create_df(the_list) :\n",
    "    \n",
    "    col_order = ['tweet', 'timestamp','keywords' ,'coordinates','Place_name']   \n",
    "    dummy_df = pd.DataFrame(columns = ['tweet', 'timestamp','keywords' ,\n",
    "                                       'coordinates','Place_name'])\n",
    "\n",
    "    for i in the_list :\n",
    "        handle = i[1]\n",
    "        df = extract_tweets(handle)\n",
    "        df['keywords'] = df['tweet'].map(lambda x: TweetCleaner(x))\n",
    "        df = df[col_order]\n",
    "\n",
    "        dummy_df = dummy_df.append(df)\n",
    "    \n",
    "    dummy_df = dummy_df.drop([0])\n",
    "    dummy_df = dummy_df.reset_index()\n",
    "    dummy_df = dummy_df.drop(columns = ['index'] , axis = 1)   \n",
    "    \n",
    "    return dummy_df\n"
   ]
  },
  {
   "cell_type": "markdown",
   "metadata": {},
   "source": [
    "### Build Data"
   ]
  },
  {
   "cell_type": "code",
   "execution_count": 135,
   "metadata": {},
   "outputs": [],
   "source": [
    "database = create_df(master_list)"
   ]
  },
  {
   "cell_type": "code",
   "execution_count": 136,
   "metadata": {},
   "outputs": [
    {
     "data": {
      "text/html": [
       "<div>\n",
       "<style scoped>\n",
       "    .dataframe tbody tr th:only-of-type {\n",
       "        vertical-align: middle;\n",
       "    }\n",
       "\n",
       "    .dataframe tbody tr th {\n",
       "        vertical-align: top;\n",
       "    }\n",
       "\n",
       "    .dataframe thead th {\n",
       "        text-align: right;\n",
       "    }\n",
       "</style>\n",
       "<table border=\"1\" class=\"dataframe\">\n",
       "  <thead>\n",
       "    <tr style=\"text-align: right;\">\n",
       "      <th></th>\n",
       "      <th>tweet</th>\n",
       "      <th>timestamp</th>\n",
       "      <th>keywords</th>\n",
       "      <th>coordinates</th>\n",
       "      <th>Place_name</th>\n",
       "    </tr>\n",
       "  </thead>\n",
       "  <tbody>\n",
       "    <tr>\n",
       "      <th>0</th>\n",
       "      <td>@TheFazk1 @LBofBexley @BelvedereLabour @thames...</td>\n",
       "      <td>2020-08-05 20:37:37</td>\n",
       "      <td></td>\n",
       "      <td>None</td>\n",
       "      <td>Not available</td>\n",
       "    </tr>\n",
       "    <tr>\n",
       "      <th>1</th>\n",
       "      <td>3 days council approval for the repair - finge...</td>\n",
       "      <td>2020-08-05 20:35:27</td>\n",
       "      <td></td>\n",
       "      <td>None</td>\n",
       "      <td>Not available</td>\n",
       "    </tr>\n",
       "    <tr>\n",
       "      <th>2</th>\n",
       "      <td>@nialltkeogh @TeRNSorg @WildWoodberry @thamesw...</td>\n",
       "      <td>2020-08-05 20:10:16</td>\n",
       "      <td></td>\n",
       "      <td>None</td>\n",
       "      <td>Not available</td>\n",
       "    </tr>\n",
       "    <tr>\n",
       "      <th>3</th>\n",
       "      <td>@_aimeesteeds @thameswater Nice to read some p...</td>\n",
       "      <td>2020-08-05 20:07:10</td>\n",
       "      <td></td>\n",
       "      <td>None</td>\n",
       "      <td>Not available</td>\n",
       "    </tr>\n",
       "    <tr>\n",
       "      <th>4</th>\n",
       "      <td>Hi @thameswater , I've been trying to log into...</td>\n",
       "      <td>2020-08-05 19:53:53</td>\n",
       "      <td></td>\n",
       "      <td>None</td>\n",
       "      <td>Not available</td>\n",
       "    </tr>\n",
       "  </tbody>\n",
       "</table>\n",
       "</div>"
      ],
      "text/plain": [
       "                                               tweet           timestamp  \\\n",
       "0  @TheFazk1 @LBofBexley @BelvedereLabour @thames... 2020-08-05 20:37:37   \n",
       "1  3 days council approval for the repair - finge... 2020-08-05 20:35:27   \n",
       "2  @nialltkeogh @TeRNSorg @WildWoodberry @thamesw... 2020-08-05 20:10:16   \n",
       "3  @_aimeesteeds @thameswater Nice to read some p... 2020-08-05 20:07:10   \n",
       "4  Hi @thameswater , I've been trying to log into... 2020-08-05 19:53:53   \n",
       "\n",
       "  keywords coordinates     Place_name  \n",
       "0                 None  Not available  \n",
       "1                 None  Not available  \n",
       "2                 None  Not available  \n",
       "3                 None  Not available  \n",
       "4                 None  Not available  "
      ]
     },
     "execution_count": 136,
     "metadata": {},
     "output_type": "execute_result"
    }
   ],
   "source": [
    "database.head()"
   ]
  },
  {
   "cell_type": "markdown",
   "metadata": {},
   "source": [
    "### Database connection"
   ]
  },
  {
   "cell_type": "code",
   "execution_count": 137,
   "metadata": {},
   "outputs": [
    {
     "data": {
      "text/html": [
       "<div>\n",
       "<style scoped>\n",
       "    .dataframe tbody tr th:only-of-type {\n",
       "        vertical-align: middle;\n",
       "    }\n",
       "\n",
       "    .dataframe tbody tr th {\n",
       "        vertical-align: top;\n",
       "    }\n",
       "\n",
       "    .dataframe thead th {\n",
       "        text-align: right;\n",
       "    }\n",
       "</style>\n",
       "<table border=\"1\" class=\"dataframe\">\n",
       "  <thead>\n",
       "    <tr style=\"text-align: right;\">\n",
       "      <th></th>\n",
       "      <th>tweet</th>\n",
       "      <th>timestamp</th>\n",
       "      <th>keywords</th>\n",
       "      <th>coordinates</th>\n",
       "      <th>Place_name</th>\n",
       "    </tr>\n",
       "  </thead>\n",
       "  <tbody>\n",
       "    <tr>\n",
       "      <th>0</th>\n",
       "      <td>@TheFazk1 @LBofBexley @BelvedereLabour @thames...</td>\n",
       "      <td>2020-08-05 20:37:37</td>\n",
       "      <td></td>\n",
       "      <td>None</td>\n",
       "      <td>Not available</td>\n",
       "    </tr>\n",
       "    <tr>\n",
       "      <th>1</th>\n",
       "      <td>3 days council approval for the repair - finge...</td>\n",
       "      <td>2020-08-05 20:35:27</td>\n",
       "      <td></td>\n",
       "      <td>None</td>\n",
       "      <td>Not available</td>\n",
       "    </tr>\n",
       "    <tr>\n",
       "      <th>2</th>\n",
       "      <td>@nialltkeogh @TeRNSorg @WildWoodberry @thamesw...</td>\n",
       "      <td>2020-08-05 20:10:16</td>\n",
       "      <td></td>\n",
       "      <td>None</td>\n",
       "      <td>Not available</td>\n",
       "    </tr>\n",
       "    <tr>\n",
       "      <th>3</th>\n",
       "      <td>@_aimeesteeds @thameswater Nice to read some p...</td>\n",
       "      <td>2020-08-05 20:07:10</td>\n",
       "      <td></td>\n",
       "      <td>None</td>\n",
       "      <td>Not available</td>\n",
       "    </tr>\n",
       "    <tr>\n",
       "      <th>4</th>\n",
       "      <td>Hi @thameswater , I've been trying to log into...</td>\n",
       "      <td>2020-08-05 19:53:53</td>\n",
       "      <td></td>\n",
       "      <td>None</td>\n",
       "      <td>Not available</td>\n",
       "    </tr>\n",
       "  </tbody>\n",
       "</table>\n",
       "</div>"
      ],
      "text/plain": [
       "                                               tweet           timestamp  \\\n",
       "0  @TheFazk1 @LBofBexley @BelvedereLabour @thames... 2020-08-05 20:37:37   \n",
       "1  3 days council approval for the repair - finge... 2020-08-05 20:35:27   \n",
       "2  @nialltkeogh @TeRNSorg @WildWoodberry @thamesw... 2020-08-05 20:10:16   \n",
       "3  @_aimeesteeds @thameswater Nice to read some p... 2020-08-05 20:07:10   \n",
       "4  Hi @thameswater , I've been trying to log into... 2020-08-05 19:53:53   \n",
       "\n",
       "  keywords coordinates     Place_name  \n",
       "0                 None  Not available  \n",
       "1                 None  Not available  \n",
       "2                 None  Not available  \n",
       "3                 None  Not available  \n",
       "4                 None  Not available  "
      ]
     },
     "execution_count": 137,
     "metadata": {},
     "output_type": "execute_result"
    }
   ],
   "source": [
    "database.head(5)\n",
    "# Note DB currently has 200 entries from @thameswater twitter account "
   ]
  },
  {
   "cell_type": "code",
   "execution_count": 138,
   "metadata": {},
   "outputs": [
    {
     "data": {
      "text/plain": [
       "['',\n",
       " '',\n",
       " '',\n",
       " '',\n",
       " '',\n",
       " '',\n",
       " '',\n",
       " 'water',\n",
       " 'low',\n",
       " 'water',\n",
       " '',\n",
       " 'water',\n",
       " '',\n",
       " '',\n",
       " '',\n",
       " 'water water',\n",
       " '',\n",
       " 'service',\n",
       " '',\n",
       " '',\n",
       " '',\n",
       " '\"water\" waterfalls',\n",
       " '',\n",
       " 'low water pressure',\n",
       " '',\n",
       " 'reports low water pressure water',\n",
       " 'water',\n",
       " '',\n",
       " 'reported',\n",
       " '',\n",
       " '',\n",
       " '',\n",
       " '',\n",
       " 'customeservice',\n",
       " 'complaint',\n",
       " 'pipe',\n",
       " '',\n",
       " 'burst pipe',\n",
       " '',\n",
       " 'service',\n",
       " '',\n",
       " '',\n",
       " 'complaints',\n",
       " 'reporting water',\n",
       " 'water',\n",
       " '',\n",
       " '',\n",
       " '',\n",
       " '',\n",
       " 'low water pressure',\n",
       " '',\n",
       " 'water leaking pipes',\n",
       " '',\n",
       " 'water water leak',\n",
       " '',\n",
       " '',\n",
       " '',\n",
       " '',\n",
       " '',\n",
       " 'cut',\n",
       " '',\n",
       " 'water leak water',\n",
       " 'leak',\n",
       " '',\n",
       " '',\n",
       " 'complaints',\n",
       " 'water',\n",
       " 'water supply water',\n",
       " '',\n",
       " '',\n",
       " '',\n",
       " '',\n",
       " '',\n",
       " 'leak',\n",
       " 'leak',\n",
       " 'reported',\n",
       " 'reported water',\n",
       " '',\n",
       " 'water',\n",
       " '',\n",
       " '',\n",
       " '',\n",
       " 'following',\n",
       " 'water report',\n",
       " 'leak',\n",
       " '',\n",
       " 'leak',\n",
       " '',\n",
       " 'water flowing',\n",
       " '',\n",
       " '',\n",
       " '',\n",
       " '',\n",
       " 'water leak pipes',\n",
       " 'water excutives',\n",
       " '',\n",
       " '',\n",
       " 'water leak',\n",
       " '',\n",
       " '',\n",
       " '',\n",
       " 'water leak',\n",
       " 'water',\n",
       " 'reported burst water pipe',\n",
       " 'low pressure',\n",
       " '',\n",
       " 'water',\n",
       " 'deliveries leak',\n",
       " 'water',\n",
       " '',\n",
       " '',\n",
       " '',\n",
       " 'water',\n",
       " '',\n",
       " '',\n",
       " 'services',\n",
       " 'leak burst pipe)',\n",
       " 'leak',\n",
       " '',\n",
       " '',\n",
       " 'service',\n",
       " '',\n",
       " '',\n",
       " 'low pressure',\n",
       " 'leak',\n",
       " '',\n",
       " 'pipe',\n",
       " 'water',\n",
       " 'thameswater',\n",
       " '',\n",
       " '',\n",
       " 'low pressure',\n",
       " 'leak reported',\n",
       " '',\n",
       " '',\n",
       " '',\n",
       " '',\n",
       " 'water',\n",
       " '',\n",
       " '',\n",
       " 'water water leak',\n",
       " '',\n",
       " '',\n",
       " 'complaint',\n",
       " '',\n",
       " '',\n",
       " '',\n",
       " 'pipe pipe',\n",
       " '',\n",
       " 'water pressure',\n",
       " '',\n",
       " 'service',\n",
       " '',\n",
       " '',\n",
       " 'water',\n",
       " '',\n",
       " '',\n",
       " '',\n",
       " '',\n",
       " '',\n",
       " '',\n",
       " '',\n",
       " '',\n",
       " 'water pressure',\n",
       " 'reported leak',\n",
       " '',\n",
       " '',\n",
       " 'installation serviced',\n",
       " '',\n",
       " '',\n",
       " '',\n",
       " '',\n",
       " '',\n",
       " '',\n",
       " '',\n",
       " '',\n",
       " '',\n",
       " '',\n",
       " '',\n",
       " '',\n",
       " '',\n",
       " '',\n",
       " '',\n",
       " '',\n",
       " '',\n",
       " 'reported water leak',\n",
       " '',\n",
       " '',\n",
       " '',\n",
       " '',\n",
       " '',\n",
       " '',\n",
       " '',\n",
       " '',\n",
       " '',\n",
       " '',\n",
       " '',\n",
       " 'water',\n",
       " '']"
      ]
     },
     "execution_count": 138,
     "metadata": {},
     "output_type": "execute_result"
    }
   ],
   "source": [
    "[i for i in database.keywords]\n",
    "#None of the entries contain any of our keywords"
   ]
  },
  {
   "cell_type": "code",
   "execution_count": 118,
   "metadata": {},
   "outputs": [],
   "source": [
    "a = 'I am @thameswater'"
   ]
  },
  {
   "cell_type": "code",
   "execution_count": 125,
   "metadata": {},
   "outputs": [
    {
     "data": {
      "text/plain": [
       "['I', 'am', '@thameswater']"
      ]
     },
     "execution_count": 125,
     "metadata": {},
     "output_type": "execute_result"
    }
   ],
   "source": [
    "a.split()"
   ]
  },
  {
   "cell_type": "code",
   "execution_count": 126,
   "metadata": {},
   "outputs": [
    {
     "name": "stdout",
     "output_type": "stream",
     "text": [
      "@thameswater\n"
     ]
    }
   ],
   "source": [
    "for i in a.split():\n",
    "    if any(list_word in i for list_word in key_words):\n",
    "        print(i)"
   ]
  },
  {
   "cell_type": "code",
   "execution_count": 129,
   "metadata": {},
   "outputs": [
    {
     "data": {
      "text/plain": [
       "'@thameswater'"
      ]
     },
     "execution_count": 129,
     "metadata": {},
     "output_type": "execute_result"
    }
   ],
   "source": [
    "' '.join([i for i in a.split() if any(list_word in i for list_word in key_words)])"
   ]
  },
  {
   "cell_type": "code",
   "execution_count": null,
   "metadata": {},
   "outputs": [],
   "source": []
  }
 ],
 "metadata": {
  "colab": {
   "name": "pipeline_student_version.ipynb",
   "provenance": []
  },
  "kernelspec": {
   "display_name": "Python 3",
   "language": "python",
   "name": "python3"
  },
  "language_info": {
   "codemirror_mode": {
    "name": "ipython",
    "version": 3
   },
   "file_extension": ".py",
   "mimetype": "text/x-python",
   "name": "python",
   "nbconvert_exporter": "python",
   "pygments_lexer": "ipython3",
   "version": "3.7.7"
  }
 },
 "nbformat": 4,
 "nbformat_minor": 1
}
